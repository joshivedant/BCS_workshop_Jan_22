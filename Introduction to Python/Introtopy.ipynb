{
  "cells": [
    {
      "cell_type": "markdown",
      "metadata": {
        "id": "SG9IaiFtTvgH"
      },
      "source": [
        "<h1>Hi, welcome to introduction to python. This notebook is not a tutorial but a sort of refrence book. It mostly contains correct & official resources you should refer to when learning</h1>"
      ]
    },
    {
      "cell_type": "markdown",
      "metadata": {
        "id": "zK7Aug5-o9P8"
      },
      "source": [
        "In the part 1 of this tutorial we will go through:\n",
        "1. Basics of python programming (operators, print, how to use collab/jupyter, etc)\n",
        "2. Variable & Datatypes \n",
        "3. Conditional statements, loops\n",
        "4. Functions, Classes "
      ]
    },
    {
      "cell_type": "code",
      "execution_count": 1,
      "metadata": {
        "colab": {
          "base_uri": "https://localhost:8080/"
        },
        "id": "7SDxwY_-VHDE",
        "outputId": "964e9cbf-3a57-49d4-8d12-33cb6bb17cf9"
      },
      "outputs": [
        {
          "name": "stdout",
          "output_type": "stream",
          "text": [
            "welcome to BCS\n"
          ]
        }
      ],
      "source": [
        "print(\"welcome to BCS\")"
      ]
    },
    {
      "cell_type": "markdown",
      "metadata": {
        "id": "dqsSSNI_VjdG"
      },
      "source": [
        "So, collab is fairly simple. [Colab](https://colab.research.google.com/notebooks/basic_features_overview.ipynb) allows anybody to write and execute python code through the browser itself. There is no need to install any library or create some environment, etc. \n",
        "\n",
        "---\n",
        "\n",
        "\n",
        "\n",
        "If you want to use your local machine to learn python, there are multiple ways to do so.\n",
        "1. PyCharm\n",
        "\n",
        "\n",
        "*   install the latest version of [Python](https://www.python.org/downloads/) and add it to [windows path](https://www.geeksforgeeks.org/how-to-add-python-to-windows-path/), if not added bydefault. If you get stuck somewhere...google maybe. Or contact our secys @BCS [discord](https://discord.gg/HvgePBAT) server.\n",
        "*  Check if python is properly installed. For this open cmd then type python, you should be able to see something like this :\n",
        "![Command Prompt - python 07-10-2021 21_04_33.png](data:image/png;base64,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)\n",
        "\n",
        "\n",
        "\n",
        "*   If your installation is proper, you can Download [PyCharm](https://www.jetbrains.com/pycharm/download/#section=windows) community version. Follow these [instructions](https://www.jetbrains.com/help/pycharm/installation-guide.html) for installation - you will be good to go.// vscode too works just fine...but since we will be working with notebooks mostly, i recommend using jupyter\n",
        "\n",
        "2. Anaconda\n",
        "\n",
        "\n",
        "*   Download [Anaconda](https://www.anaconda.com/products/individual). follow the [instructions](https://docs.anaconda.com/anaconda/install/windows/)\n",
        "*   Always create [ENVIRONMENTS](https://towardsdatascience.com/a-guide-to-conda-environments-bc6180fc533). Use pip to install libraries in that environment.\n",
        "\n",
        "\n",
        "*   Anaconda is not an IDE. its a distribution. Conda has its own ide - Spyder, its fairly good. \n",
        "*   if you get stuck, or cant follow - watch [this](https://www.youtube.com/watch?v=5mDYijMfSzs) and [this](https://www.youtube.com/watch?v=mIB7IZFCE_k)\n",
        "\n",
        "\n",
        "\n",
        "\n",
        "\n",
        "\n",
        "\n",
        "\n",
        "\n"
      ]
    },
    {
      "cell_type": "code",
      "execution_count": 2,
      "metadata": {
        "colab": {
          "base_uri": "https://localhost:8080/"
        },
        "id": "HJtSiGUuVW7w",
        "outputId": "8a186a8e-7737-4383-c78b-5426e0593a02"
      },
      "outputs": [
        {
          "data": {
            "text/plain": [
              "4"
            ]
          },
          "execution_count": 2,
          "metadata": {},
          "output_type": "execute_result"
        }
      ],
      "source": [
        "2+2"
      ]
    },
    {
      "cell_type": "markdown",
      "metadata": {
        "id": "c-ir8-H_aa74"
      },
      "source": [
        "Okay, so lets try basic arithmatic first, try creating a cell and then simply type 4+5 and run the cell. You will see 9 in the output. With this, we commence with our first python tutorial : ***Operators***\n",
        "\n",
        "Operators are special symbols in Python that carry out arithmetic or logical computation. In the above cell '+' is the operator for addition. similarly '-' is the operator for substraction. [Here](https://www.w3schools.com/python/python_operators.asp) is the list of all operators. You dont have to remember them, google whenever needed. Now lets write a code for adding 2 numbers, and along the way, i will introduce you to the syntax, print statement and much more."
      ]
    },
    {
      "cell_type": "code",
      "execution_count": 3,
      "metadata": {
        "colab": {
          "base_uri": "https://localhost:8080/"
        },
        "id": "0ExR6lXgg61L",
        "outputId": "bc274774-ff51-4583-e5f4-78c18751f2b9"
      },
      "outputs": [
        {
          "name": "stdout",
          "output_type": "stream",
          "text": [
            "The sum of 2 and 3 is 5\n"
          ]
        }
      ],
      "source": [
        "num1 = 2\n",
        "num2 = 3\n",
        "\n",
        "#create new variable to store the sum of number1 & number2\n",
        "sum = num1 + num2\n",
        "\n",
        "#print the sum\n",
        "print('The sum of {0} and {1} is {2}'.format(num1, num2, sum))\n"
      ]
    },
    {
      "cell_type": "markdown",
      "metadata": {
        "id": "6c-nf87Rh3ku"
      },
      "source": [
        "num1, num2 & sum are the variables that store values of 2, 3 & 2+3 respectively. so that, if we want to find the sum of 4 & 5 we only have to change -\n",
        "\n",
        "num1 = 4\n",
        "\n",
        "num2 = 5\n",
        "\n",
        "---\n",
        "\n",
        "\n",
        "\n",
        "# What is the need of variable?\n",
        "Variables are used to store information to be referenced and manipulated in a computer program. They also provide a way of labeling data with a descriptive name, so our programs can be understood more clearly by the reader and ourselves. so, in future when you will write bigger codes, you have the luxury to change a single variable to change the entire dynamics of the code, you dont have to go and change it everywhere.\n",
        "\n",
        "\n",
        "---\n",
        "\n",
        "# Print statement\n",
        "print allows you to show the output on the screen. follow the next code block for more in this\n"
      ]
    },
    {
      "cell_type": "code",
      "execution_count": 4,
      "metadata": {
        "colab": {
          "base_uri": "https://localhost:8080/"
        },
        "id": "0KL5284yh2HX",
        "outputId": "00326d34-4948-42df-c3c2-1074cc1ad93f"
      },
      "outputs": [
        {
          "data": {
            "text/plain": [
              "5"
            ]
          },
          "execution_count": 4,
          "metadata": {},
          "output_type": "execute_result"
        }
      ],
      "source": [
        "2+3\n",
        "#running this cell will give you 5"
      ]
    },
    {
      "cell_type": "code",
      "execution_count": 5,
      "metadata": {
        "colab": {
          "base_uri": "https://localhost:8080/"
        },
        "id": "MBt5KrJjmwMf",
        "outputId": "7e236a26-df07-444a-fa6d-4f19c2c4bc9c"
      },
      "outputs": [
        {
          "name": "stdout",
          "output_type": "stream",
          "text": [
            "Python is ezz\n"
          ]
        }
      ],
      "source": [
        "2+3\n",
        "print(\"Python is ezz\")\n",
        "#but running this will not give you 5, It will read 'Python is ezz'. that is because print, prints the output to the screen. 2+3 = 5 will be stored in its memory"
      ]
    },
    {
      "cell_type": "code",
      "execution_count": 6,
      "metadata": {
        "colab": {
          "base_uri": "https://localhost:8080/"
        },
        "id": "wMjKzlHqm_gm",
        "outputId": "b9377075-ee36-4f68-908a-4be486eeabdd"
      },
      "outputs": [
        {
          "name": "stdout",
          "output_type": "stream",
          "text": [
            "5\n",
            "Python is ezz\n"
          ]
        }
      ],
      "source": [
        "#but\n",
        "print(2+3)\n",
        "print(\"Python is ezz\")"
      ]
    },
    {
      "cell_type": "markdown",
      "metadata": {
        "id": "xvcMgJUjhJKv"
      },
      "source": [
        "<h1> Variables, Data Types, Conditional statements, Loops, Functions & Classes</h1>\n",
        "\n",
        "\n",
        "---\n",
        "\n",
        "\n",
        "\n",
        "---\n",
        "\n"
      ]
    },
    {
      "cell_type": "markdown",
      "metadata": {
        "id": "f1UTiaLrwD-8"
      },
      "source": [
        "\n",
        "\n",
        "This tutorial is targeted to those, who are not familiar with Python and use of Pyhton for scientific computing. "
      ]
    },
    {
      "cell_type": "markdown",
      "metadata": {
        "id": "8DzEUxlv45GI"
      },
      "source": [
        "## Hello World Example"
      ]
    },
    {
      "cell_type": "code",
      "execution_count": 7,
      "metadata": {
        "id": "t00OMGst4-e0"
      },
      "outputs": [
        {
          "name": "stdout",
          "output_type": "stream",
          "text": [
            "Helllo World\n"
          ]
        }
      ],
      "source": [
        "# This is a comment\n",
        "print(\"Helllo World\")"
      ]
    },
    {
      "cell_type": "markdown",
      "metadata": {
        "id": "Ki5oKWco3F67"
      },
      "source": [
        "## Variables and basic data types\n",
        "\n",
        "Like other programming languages, Python also have similar basic data types such as integers, float, strings, etc. Unlike in C/ C++, you don't need any additional declaration of variables or their variable type, you can straight away start using. Examples given below will clear it for you. "
      ]
    },
    {
      "cell_type": "markdown",
      "metadata": {
        "id": "h9EPF0Va4sAV"
      },
      "source": [
        "### Numbers"
      ]
    },
    {
      "cell_type": "code",
      "execution_count": 8,
      "metadata": {
        "id": "pFhGQUtvvdeV"
      },
      "outputs": [
        {
          "name": "stdout",
          "output_type": "stream",
          "text": [
            "<class 'int'>\n",
            "x is: 2 and x + 1 is: 3\n",
            "x multiply by 3 is: 6 and x^3 is: 8\n",
            "3\n"
          ]
        }
      ],
      "source": [
        "# Integers\n",
        "\n",
        "x = 2 # This will create new integer variable 'x' with value as 2\n",
        "print(type(x))\n",
        "print(\"x is:\",x,\"and x + 1 is:\", x+1) # multiple print statements and addition of two integers\n",
        "print(\"x multiply by 3 is:\",x*3, \"and x^3 is:\", x**3) # multiplication and power of\n",
        "x += 1 # Increment statement\n",
        "print(x) "
      ]
    },
    {
      "cell_type": "code",
      "execution_count": 9,
      "metadata": {
        "id": "KbfM2EBT5vbJ"
      },
      "outputs": [
        {
          "name": "stdout",
          "output_type": "stream",
          "text": [
            "<class 'float'>\n",
            "x is: 2.0 and x + 1 is: 3.0\n",
            "x multiply by 3 is: 6.0 and x^3 is: 8.0\n",
            "3.0\n"
          ]
        }
      ],
      "source": [
        "# Floats\n",
        "\n",
        "x = 2.0 # This how you create a new float variable\n",
        "print(type(x))\n",
        "print(\"x is:\",x,\"and x + 1 is:\", x+1)\n",
        "print(\"x multiply by 3 is:\",x*3, \"and x^3 is:\", x**3)\n",
        "x += 1\n",
        "print(x)"
      ]
    },
    {
      "cell_type": "code",
      "execution_count": 10,
      "metadata": {
        "id": "lGUo6SN76SF1"
      },
      "outputs": [
        {
          "name": "stdout",
          "output_type": "stream",
          "text": [
            "2 <class 'int'>\n",
            "3.0 <class 'float'>\n"
          ]
        }
      ],
      "source": [
        "# Type Conversion\n",
        "\n",
        "x = 2\n",
        "print(x, type(x))\n",
        "x += 1.0 # This will convert the integer data type to float data type\n",
        "print(x, type(x))"
      ]
    },
    {
      "cell_type": "markdown",
      "metadata": {
        "id": "HBfUfNEQ62MW"
      },
      "source": [
        "### Strings"
      ]
    },
    {
      "cell_type": "code",
      "execution_count": 11,
      "metadata": {
        "id": "kIwH3fn96n9s"
      },
      "outputs": [
        {
          "name": "stdout",
          "output_type": "stream",
          "text": [
            "<class 'str'>\n",
            "bcs_iitk\n",
            "8\n",
            "bcs_iitk workshop april 2020\n"
          ]
        }
      ],
      "source": [
        "x = \"bcs_iitk\"\n",
        "print(type(x))\n",
        "print(x)\n",
        "print(len(x))\n",
        "\n",
        "y = \"workshop april 2020\"\n",
        "z = x + \" \" + y # This is how you concatenate strings\n",
        "print(z)"
      ]
    },
    {
      "cell_type": "markdown",
      "metadata": {
        "id": "Lpe66hWU73Oe"
      },
      "source": [
        "### Booleans"
      ]
    },
    {
      "cell_type": "code",
      "execution_count": 12,
      "metadata": {
        "id": "RnIwkwJP7PE5"
      },
      "outputs": [
        {
          "name": "stdout",
          "output_type": "stream",
          "text": [
            "<class 'bool'>\n",
            "False\n",
            "True\n",
            "False\n"
          ]
        }
      ],
      "source": [
        "x = True\n",
        "y = False\n",
        "print(type(x))\n",
        "print(x and y)\n",
        "print(x or y)\n",
        "print(not x)"
      ]
    },
    {
      "cell_type": "markdown",
      "metadata": {
        "id": "gvxsZehB8O1O"
      },
      "source": [
        "## Lists and Dictionaries"
      ]
    },
    {
      "cell_type": "markdown",
      "metadata": {
        "id": "IDh8YHia8hoR"
      },
      "source": [
        "### Lists \n",
        "Lists are container which can contain several elements or values in one variable name. Quite similar to arrays in C/ C++ but with additional features.\n"
      ]
    },
    {
      "cell_type": "markdown",
      "metadata": {
        "id": "6G1U7-ki_JyO"
      },
      "source": [
        "#### Creating lists"
      ]
    },
    {
      "cell_type": "code",
      "execution_count": 13,
      "metadata": {
        "id": "yIjiBvSN8Z-X"
      },
      "outputs": [
        {
          "name": "stdout",
          "output_type": "stream",
          "text": [
            "[5, 1, 8]\n",
            "1st element: 5 and 1st last element: 8\n",
            "Change Value: [5, 2, 8]\n",
            "new element: [5, 2, 8, 4]\n",
            "Removed element: 4 | Left out list: [5, 2, 8]\n",
            "[]\n",
            "y: [5] | x: [2, 8]\n"
          ]
        }
      ],
      "source": [
        "x = [5, 1, 8] # Creating a list of 3 elements\n",
        "print(x)\n",
        "\n",
        "# Calling individual element\n",
        "print(\"1st element:\",x[0],\"and 1st last element:\", x[-1])\n",
        "\n",
        "# change value\n",
        "x[1] = 2\n",
        "print(\"Change Value:\",x)\n",
        "\n",
        "# Add a new element\n",
        "x.append(4)\n",
        "print(\"new element:\",x)\n",
        "\n",
        "# Removing any element at specified index\n",
        "print(\"Removed element:\",x.pop(3), \"| Left out list:\",x)\n",
        "\n",
        "y = [] # Initialising an empty list\n",
        "print(y)\n",
        "y.append(x.pop(0))\n",
        "print(\"y:\",y, \"| x:\",x)"
      ]
    },
    {
      "cell_type": "markdown",
      "metadata": {
        "id": "UVoHZB6a_VnH"
      },
      "source": [
        "#### Slicing\n",
        "In python you can easily get the sublists using slicing."
      ]
    },
    {
      "cell_type": "code",
      "execution_count": 14,
      "metadata": {
        "id": "txf50iau_fIi"
      },
      "outputs": [
        {
          "name": "stdout",
          "output_type": "stream",
          "text": [
            "[0, 1, 2, 3, 4, 5, 6, 7, 8, 9]\n",
            "[2, 4, 6, 8]\n",
            "[0, 1, 2, 3, 4]\n",
            "[5, 6, 7, 8, 9]\n",
            "[3, 4, 5, 6, 7]\n",
            "[3, 4, 5, 3, 4, 5, 6, 7, 8, 9]\n"
          ]
        }
      ],
      "source": [
        "x = [*range(10)] # short trick to create a list containing integers from 0 to 10\n",
        "y = [*range(2,10,2)]\n",
        "print(x)\n",
        "print(y)\n",
        "print(x[:5]) # from starting index to 4\n",
        "print(x[5:]) # from 5 to last index\n",
        "print(x[3:8]) # from 3 to 7\n",
        "x[:3] = [*range(3,6)] # changing value of a slice\n",
        "print(x)"
      ]
    },
    {
      "cell_type": "markdown",
      "metadata": {
        "id": "-BjnLk9eMcvo"
      },
      "source": [
        "### Dictionaries\n",
        "Dictionary are variables which stores key-value pairs."
      ]
    },
    {
      "cell_type": "code",
      "execution_count": 15,
      "metadata": {
        "id": "3os3F0bpAQmt"
      },
      "outputs": [
        {
          "name": "stdout",
          "output_type": "stream",
          "text": [
            "{'Name': 'Shashi', 'Branch': 'Electrical', 'Roll': 160645}\n",
            "Shashi\n",
            "160645\n",
            "{'Name': 'Shashi', 'Branch': 'Electrical', 'Roll': 160645, 'CPI': 'NA'}\n"
          ]
        }
      ],
      "source": [
        "# 'Name', 'Branch' and 'Roll' are keys || 'Shashi', 'Electrical' and 160645 are there respective values\n",
        "student_1 = {'Name': 'Shashi', 'Branch': 'Electrical', 'Roll': 160645}\n",
        "print(student_1)\n",
        "print(student_1['Name'])\n",
        "print(student_1['Roll'])\n",
        "\n",
        "# Adding new key-value pair\n",
        "student_1['CPI'] = 'NA' # :-P\n",
        "print(student_1)"
      ]
    },
    {
      "cell_type": "code",
      "execution_count": null,
      "metadata": {
        "id": "9kBLLgLWNNdj"
      },
      "outputs": [],
      "source": []
    },
    {
      "cell_type": "markdown",
      "metadata": {
        "id": "x_nDVvi1ODC_"
      },
      "source": [
        "## Conditional Statements (if-else)\n",
        "Conditional statements are used for decision making. Unlike C/C++, there is no switch-case thing in Python."
      ]
    },
    {
      "cell_type": "code",
      "execution_count": 16,
      "metadata": {
        "id": "NWefhWGiOe9y"
      },
      "outputs": [
        {
          "name": "stdout",
          "output_type": "stream",
          "text": [
            "x is 1\n",
            "x is not 1\n",
            "x is 2\n",
            "x is neither 1 nor 2\n"
          ]
        }
      ],
      "source": [
        "x = 1\n",
        "\n",
        "if x == 1:\n",
        "    print(\"x is 1\")\n",
        "else:\n",
        "    print(\"x is not 1\")\n",
        "\n",
        "x = 2\n",
        "if x == 1:\n",
        "    print(\"x is 1\")\n",
        "else:\n",
        "    print(\"x is not 1\")\n",
        "    \n",
        "x = 2\n",
        "if x == 1:\n",
        "    print(\"x is 1\")\n",
        "elif x == 2:\n",
        "    print(\"x is 2\")\n",
        "else:\n",
        "    print(\"x is neither 1 nor 2\")\n",
        "    \n",
        "x = 3\n",
        "if x == 1:\n",
        "    print(\"x is 1\")\n",
        "elif x == 2:\n",
        "    print(\"x is 2\")\n",
        "else:\n",
        "    print(\"x is neither 1 nor 2\")"
      ]
    },
    {
      "cell_type": "markdown",
      "metadata": {
        "id": "t6vT8PCDOvbp"
      },
      "source": [
        "## Loops\n",
        "Loops are used to run same kind of lines multiple times."
      ]
    },
    {
      "cell_type": "code",
      "execution_count": 17,
      "metadata": {
        "id": "bERz0JgSOpjm"
      },
      "outputs": [
        {
          "name": "stdout",
          "output_type": "stream",
          "text": [
            "0\n",
            "1\n",
            "2\n",
            "3\n",
            "4\n",
            "------\n",
            "1\n",
            "3\n",
            "5\n",
            "7\n"
          ]
        }
      ],
      "source": [
        "# general loop\n",
        "for i in range(5):\n",
        "    print(i)\n",
        "\n",
        "print('------')\n",
        "for i in range(1, 8, 2):\n",
        "    print(i)"
      ]
    },
    {
      "cell_type": "code",
      "execution_count": 18,
      "metadata": {
        "id": "LZ9gypggPDQ2"
      },
      "outputs": [
        {
          "name": "stdout",
          "output_type": "stream",
          "text": [
            "2\n",
            "5\n",
            "6\n"
          ]
        }
      ],
      "source": [
        "# Looping over a list\n",
        "x = [2, 5, 6]\n",
        "for i in x:\n",
        "    print(i)"
      ]
    },
    {
      "cell_type": "code",
      "execution_count": 19,
      "metadata": {
        "id": "iJw_ju-RPTwv"
      },
      "outputs": [
        {
          "name": "stdout",
          "output_type": "stream",
          "text": [
            "[0, 1, 2, 3, 4]\n",
            "[0, 1, 4, 9, 16]\n"
          ]
        }
      ],
      "source": [
        "# list comprehension\n",
        "x = [*range(5)]\n",
        "x_sq = [i ** 2 for i in x]\n",
        "print(x)\n",
        "print(x_sq)"
      ]
    },
    {
      "cell_type": "code",
      "execution_count": 20,
      "metadata": {
        "id": "_gxO4oaJPbet"
      },
      "outputs": [
        {
          "name": "stdout",
          "output_type": "stream",
          "text": [
            "1\n",
            "2\n",
            "3\n",
            "4\n"
          ]
        }
      ],
      "source": [
        "# while loop\n",
        "x = 1\n",
        "while x<5:\n",
        "    print(x)\n",
        "    x+=1"
      ]
    },
    {
      "cell_type": "markdown",
      "metadata": {
        "id": "FwSPz2zjPipe"
      },
      "source": [
        "## Functions\n",
        "Defined simply using ```def``` keyword. Can return as many variable as much you want. Can take optional keyword arguments as well."
      ]
    },
    {
      "cell_type": "code",
      "execution_count": 21,
      "metadata": {
        "id": "755MZpcjPg0a"
      },
      "outputs": [
        {
          "name": "stdout",
          "output_type": "stream",
          "text": [
            "x^2 + x + 1 at x = 0 is: 1\n",
            "x^2 + x + 1 at x = 1 is: 3\n",
            "x^2 + x + 1 at x = 2 is: 7\n",
            "2x^2 + x + 1 at x = 2 is: 4\n"
          ]
        }
      ],
      "source": [
        "# simple python function\n",
        "def poly(poly_idx, x):\n",
        "    value = 0\n",
        "    l = len(poly_idx) - 1\n",
        "    \n",
        "    for i in range(l+1):\n",
        "        value += poly_idx[i]*(x**(l-i))\n",
        "        \n",
        "    return value\n",
        "\n",
        "print(\"x^2 + x + 1 at x = 0 is:\", poly([1, 1, 1], 0))\n",
        "print(\"x^2 + x + 1 at x = 1 is:\", poly([1, 1, 1], 1))\n",
        "print(\"x^2 + x + 1 at x = 2 is:\", poly([1, 1, 1], 2))\n",
        "print(\"2x^2 + x + 1 at x = 2 is:\", poly([2, 1, 1], 1))"
      ]
    },
    {
      "cell_type": "code",
      "execution_count": 22,
      "metadata": {
        "id": "kSf6RCaJQAY_"
      },
      "outputs": [
        {
          "name": "stdout",
          "output_type": "stream",
          "text": [
            "1 2 3\n"
          ]
        }
      ],
      "source": [
        "# function which can return multiple var\n",
        "def get_data():\n",
        "  return 1, 2, 3\n",
        "\n",
        "x, y, z = get_data()\n",
        "\n",
        "print(x, y, z)"
      ]
    },
    {
      "cell_type": "code",
      "execution_count": 23,
      "metadata": {
        "id": "z2EGiHHBSMdr"
      },
      "outputs": [
        {
          "name": "stdout",
          "output_type": "stream",
          "text": [
            "Hi Shashi!\n",
            "Bye Shashi!\n"
          ]
        }
      ],
      "source": [
        "# function with optional keyword argument\n",
        "def greet(to_whom, greet_type=\"Hi\"):\n",
        "  print(greet_type, \"Shashi!\")\n",
        "\n",
        "greet(\"Shashi\")\n",
        "greet(\"Shashi\", greet_type=\"Bye\")"
      ]
    },
    {
      "cell_type": "markdown",
      "metadata": {
        "id": "YaKU_FfMTfDz"
      },
      "source": [
        "## Classes"
      ]
    },
    {
      "cell_type": "code",
      "execution_count": 24,
      "metadata": {
        "id": "gQ7xYRiLTX4a"
      },
      "outputs": [
        {
          "name": "stdout",
          "output_type": "stream",
          "text": [
            "160645\n",
            "Hi Shashi\n",
            "Bye Shashi\n"
          ]
        }
      ],
      "source": [
        "class Person():\n",
        "    def __init__(self, name, roll):\n",
        "        self.name = name\n",
        "        self.roll = roll\n",
        "        \n",
        "    def get_roll(self):\n",
        "        return self.roll\n",
        "    \n",
        "    def greet(self, say_hi_bye=\"Hi\"):\n",
        "        print(say_hi_bye, self.name) \n",
        "        \n",
        "p1 = Person(name=\"Shashi\", roll=160645)\n",
        "\n",
        "print(p1.get_roll())\n",
        "p1.greet()\n",
        "p1.greet(say_hi_bye=\"Bye\")"
      ]
    },
    {
      "cell_type": "markdown",
      "metadata": {
        "id": "5hvWPEc3ir3K"
      },
      "source": [
        "<h1>In part 2 we will study about Matplotlib, Pandas, Numpy, Scipy. We will refer to some awesome online resources as they are used by all and are well trusted, you can also go by yourself and find some youtube videos and maybe share them with the rest of the attendees on our discord. But the ones mentioned here are my personal favourites </h1>\n",
        "\n",
        "Numpy - [1](https://numpy.org/doc/stable/user/whatisnumpy.html) & [2](https://cs231n.github.io/python-numpy-tutorial/)\n",
        "<br>Pandas - [1](https://pandas.pydata.org/pandas-docs/stable/getting_started/tutorials.html)(this is a community guide, choose one you feel you are comfortable with)\n",
        "<br>Matplotlib - [1](https://matplotlib.org/stable/tutorials/index.html#introductory) [2](https://scipy-lectures.org/intro/matplotlib/index.html)\n",
        "<br>Scipy - [1](https://docs.scipy.org/doc/scipy/tutorial/index.html)\n",
        "<br>some other good material that covers everything briefly - [Scipy Lecture Notes](http://scipy-lectures.org/index.html) & [6.86x - Introduction to ML Packages](https://github.com/Varal7/ml-tutorial/blob/master/Part1.ipynb)\n"
      ]
    }
  ],
  "metadata": {
    "colab": {
      "collapsed_sections": [],
      "name": "Introtopy.ipynb",
      "provenance": []
    },
    "kernelspec": {
      "display_name": "Python 3",
      "name": "python3"
    },
    "language_info": {
      "codemirror_mode": {
        "name": "ipython",
        "version": 3
      },
      "file_extension": ".py",
      "mimetype": "text/x-python",
      "name": "python",
      "nbconvert_exporter": "python",
      "pygments_lexer": "ipython3",
      "version": "3.9.7"
    }
  },
  "nbformat": 4,
  "nbformat_minor": 0
}
