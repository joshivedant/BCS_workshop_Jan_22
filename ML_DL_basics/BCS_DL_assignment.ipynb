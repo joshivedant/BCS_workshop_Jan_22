{
  "cells": [
    {
      "cell_type": "markdown",
      "metadata": {
        "id": "qjKg47GBdXY9"
      },
      "source": [
        "# **Brain and Cognitive Society, IIT Kanpur**\n",
        "## **Introduction to Deep Learning Workshop**\n",
        "**This python notebook is an assingment on ML/DL**\n",
        "\n",
        "In this assingment you will solve a **regression** problem of predicting House prices using basic python libraries, and build a **neural network** for handwritten digit identification using **TensorFlow**"
      ]
    },
    {
      "cell_type": "markdown",
      "metadata": {
        "id": "FSRalact4xj4"
      },
      "source": [
        "## **Linear Regression**\n",
        "We will use Linear regression for predicting house prices\n",
        "\n",
        "We are using a Kaggle dataset- https://www.kaggle.com/harlfoxem/housesalesprediction"
      ]
    },
    {
      "cell_type": "code",
      "execution_count": 1,
      "metadata": {
        "id": "J8MRCcJY2btt"
      },
      "outputs": [],
      "source": [
        "# Lets import required Libraries\n",
        "import pandas as pd\n",
        "import numpy as np\n",
        "import matplotlib.pyplot as plt\n",
        "from sklearn.model_selection import train_test_split\n"
      ]
    },
    {
      "cell_type": "markdown",
      "metadata": {
        "id": "1MzAhMmE6UHE"
      },
      "source": [
        "### **Dataset Preparation**"
      ]
    },
    {
      "cell_type": "code",
      "execution_count": 2,
      "metadata": {
        "id": "LiWI-2py554R"
      },
      "outputs": [],
      "source": [
        "# Execute this cell for loading dataset in a pandas dataframe\n",
        "\n",
        "from IPython.display import clear_output\n",
        "#!wget --no-check-certificate 'https://docs.google.com/uc?export=download&id=16x6-8Znn2T50zFwVvKlzsdN7Jd1hpjct' -O Linear_regression_dataset\n",
        "\n",
        "data_df = pd.read_csv(\"Linear_regression_dataset.csv\")"
      ]
    },
    {
      "cell_type": "code",
      "execution_count": 3,
      "metadata": {
        "id": "TAodxbYX7AKf"
      },
      "outputs": [
        {
          "name": "stdout",
          "output_type": "stream",
          "text": [
            "(No of rows, No of Columns) =  (21613, 21)\n"
          ]
        },
        {
          "data": {
            "text/html": [
              "<div>\n",
              "<style scoped>\n",
              "    .dataframe tbody tr th:only-of-type {\n",
              "        vertical-align: middle;\n",
              "    }\n",
              "\n",
              "    .dataframe tbody tr th {\n",
              "        vertical-align: top;\n",
              "    }\n",
              "\n",
              "    .dataframe thead th {\n",
              "        text-align: right;\n",
              "    }\n",
              "</style>\n",
              "<table border=\"1\" class=\"dataframe\">\n",
              "  <thead>\n",
              "    <tr style=\"text-align: right;\">\n",
              "      <th></th>\n",
              "      <th>id</th>\n",
              "      <th>date</th>\n",
              "      <th>price</th>\n",
              "      <th>bedrooms</th>\n",
              "      <th>bathrooms</th>\n",
              "      <th>sqft_living</th>\n",
              "      <th>sqft_lot</th>\n",
              "      <th>floors</th>\n",
              "      <th>waterfront</th>\n",
              "      <th>view</th>\n",
              "      <th>...</th>\n",
              "      <th>grade</th>\n",
              "      <th>sqft_above</th>\n",
              "      <th>sqft_basement</th>\n",
              "      <th>yr_built</th>\n",
              "      <th>yr_renovated</th>\n",
              "      <th>zipcode</th>\n",
              "      <th>lat</th>\n",
              "      <th>long</th>\n",
              "      <th>sqft_living15</th>\n",
              "      <th>sqft_lot15</th>\n",
              "    </tr>\n",
              "  </thead>\n",
              "  <tbody>\n",
              "    <tr>\n",
              "      <th>0</th>\n",
              "      <td>7129300520</td>\n",
              "      <td>20141013T000000</td>\n",
              "      <td>221900.0</td>\n",
              "      <td>3</td>\n",
              "      <td>1.00</td>\n",
              "      <td>1180</td>\n",
              "      <td>5650</td>\n",
              "      <td>1.0</td>\n",
              "      <td>0</td>\n",
              "      <td>0</td>\n",
              "      <td>...</td>\n",
              "      <td>7</td>\n",
              "      <td>1180</td>\n",
              "      <td>0</td>\n",
              "      <td>1955</td>\n",
              "      <td>0</td>\n",
              "      <td>98178</td>\n",
              "      <td>47.5112</td>\n",
              "      <td>-122.257</td>\n",
              "      <td>1340</td>\n",
              "      <td>5650</td>\n",
              "    </tr>\n",
              "    <tr>\n",
              "      <th>1</th>\n",
              "      <td>6414100192</td>\n",
              "      <td>20141209T000000</td>\n",
              "      <td>538000.0</td>\n",
              "      <td>3</td>\n",
              "      <td>2.25</td>\n",
              "      <td>2570</td>\n",
              "      <td>7242</td>\n",
              "      <td>2.0</td>\n",
              "      <td>0</td>\n",
              "      <td>0</td>\n",
              "      <td>...</td>\n",
              "      <td>7</td>\n",
              "      <td>2170</td>\n",
              "      <td>400</td>\n",
              "      <td>1951</td>\n",
              "      <td>1991</td>\n",
              "      <td>98125</td>\n",
              "      <td>47.7210</td>\n",
              "      <td>-122.319</td>\n",
              "      <td>1690</td>\n",
              "      <td>7639</td>\n",
              "    </tr>\n",
              "    <tr>\n",
              "      <th>2</th>\n",
              "      <td>5631500400</td>\n",
              "      <td>20150225T000000</td>\n",
              "      <td>180000.0</td>\n",
              "      <td>2</td>\n",
              "      <td>1.00</td>\n",
              "      <td>770</td>\n",
              "      <td>10000</td>\n",
              "      <td>1.0</td>\n",
              "      <td>0</td>\n",
              "      <td>0</td>\n",
              "      <td>...</td>\n",
              "      <td>6</td>\n",
              "      <td>770</td>\n",
              "      <td>0</td>\n",
              "      <td>1933</td>\n",
              "      <td>0</td>\n",
              "      <td>98028</td>\n",
              "      <td>47.7379</td>\n",
              "      <td>-122.233</td>\n",
              "      <td>2720</td>\n",
              "      <td>8062</td>\n",
              "    </tr>\n",
              "    <tr>\n",
              "      <th>3</th>\n",
              "      <td>2487200875</td>\n",
              "      <td>20141209T000000</td>\n",
              "      <td>604000.0</td>\n",
              "      <td>4</td>\n",
              "      <td>3.00</td>\n",
              "      <td>1960</td>\n",
              "      <td>5000</td>\n",
              "      <td>1.0</td>\n",
              "      <td>0</td>\n",
              "      <td>0</td>\n",
              "      <td>...</td>\n",
              "      <td>7</td>\n",
              "      <td>1050</td>\n",
              "      <td>910</td>\n",
              "      <td>1965</td>\n",
              "      <td>0</td>\n",
              "      <td>98136</td>\n",
              "      <td>47.5208</td>\n",
              "      <td>-122.393</td>\n",
              "      <td>1360</td>\n",
              "      <td>5000</td>\n",
              "    </tr>\n",
              "    <tr>\n",
              "      <th>4</th>\n",
              "      <td>1954400510</td>\n",
              "      <td>20150218T000000</td>\n",
              "      <td>510000.0</td>\n",
              "      <td>3</td>\n",
              "      <td>2.00</td>\n",
              "      <td>1680</td>\n",
              "      <td>8080</td>\n",
              "      <td>1.0</td>\n",
              "      <td>0</td>\n",
              "      <td>0</td>\n",
              "      <td>...</td>\n",
              "      <td>8</td>\n",
              "      <td>1680</td>\n",
              "      <td>0</td>\n",
              "      <td>1987</td>\n",
              "      <td>0</td>\n",
              "      <td>98074</td>\n",
              "      <td>47.6168</td>\n",
              "      <td>-122.045</td>\n",
              "      <td>1800</td>\n",
              "      <td>7503</td>\n",
              "    </tr>\n",
              "  </tbody>\n",
              "</table>\n",
              "<p>5 rows × 21 columns</p>\n",
              "</div>"
            ],
            "text/plain": [
              "           id             date     price  bedrooms  bathrooms  sqft_living  \\\n",
              "0  7129300520  20141013T000000  221900.0         3       1.00         1180   \n",
              "1  6414100192  20141209T000000  538000.0         3       2.25         2570   \n",
              "2  5631500400  20150225T000000  180000.0         2       1.00          770   \n",
              "3  2487200875  20141209T000000  604000.0         4       3.00         1960   \n",
              "4  1954400510  20150218T000000  510000.0         3       2.00         1680   \n",
              "\n",
              "   sqft_lot  floors  waterfront  view  ...  grade  sqft_above  sqft_basement  \\\n",
              "0      5650     1.0           0     0  ...      7        1180              0   \n",
              "1      7242     2.0           0     0  ...      7        2170            400   \n",
              "2     10000     1.0           0     0  ...      6         770              0   \n",
              "3      5000     1.0           0     0  ...      7        1050            910   \n",
              "4      8080     1.0           0     0  ...      8        1680              0   \n",
              "\n",
              "   yr_built  yr_renovated  zipcode      lat     long  sqft_living15  \\\n",
              "0      1955             0    98178  47.5112 -122.257           1340   \n",
              "1      1951          1991    98125  47.7210 -122.319           1690   \n",
              "2      1933             0    98028  47.7379 -122.233           2720   \n",
              "3      1965             0    98136  47.5208 -122.393           1360   \n",
              "4      1987             0    98074  47.6168 -122.045           1800   \n",
              "\n",
              "   sqft_lot15  \n",
              "0        5650  \n",
              "1        7639  \n",
              "2        8062  \n",
              "3        5000  \n",
              "4        7503  \n",
              "\n",
              "[5 rows x 21 columns]"
            ]
          },
          "execution_count": 3,
          "metadata": {},
          "output_type": "execute_result"
        }
      ],
      "source": [
        "# Lets have a quick Look at dataset\n",
        "\n",
        "print(\"(No of rows, No of Columns) = \",data_df.shape)\n",
        "data_df.head()"
      ]
    },
    {
      "cell_type": "markdown",
      "metadata": {
        "id": "gsJaooGZ7pUV"
      },
      "source": [
        "So there are **19** features (of course we will not use id as feature :) ), and 1 variable to predict(price)\n",
        "\n",
        "But note that the **date** column contain strings so first we will remove T00.. part from it and than convert it to numpy array."
      ]
    },
    {
      "cell_type": "code",
      "execution_count": 4,
      "metadata": {
        "id": "FNFNf3jT7oxW"
      },
      "outputs": [
        {
          "name": "stderr",
          "output_type": "stream",
          "text": [
            "D:\\ProgramData\\Anaconda3\\envs\\learnTF\\lib\\site-packages\\ipykernel_launcher.py:6: DeprecationWarning: `np.float` is a deprecated alias for the builtin `float`. To silence this warning, use `float` by itself. Doing this will not modify any behavior and is safe. If you specifically wanted the numpy scalar type, use `np.float64` here.\n",
            "Deprecated in NumPy 1.20; for more details and guidance: https://numpy.org/devdocs/release/1.20.0-notes.html#deprecations\n",
            "  \n"
          ]
        },
        {
          "data": {
            "text/html": [
              "<div>\n",
              "<style scoped>\n",
              "    .dataframe tbody tr th:only-of-type {\n",
              "        vertical-align: middle;\n",
              "    }\n",
              "\n",
              "    .dataframe tbody tr th {\n",
              "        vertical-align: top;\n",
              "    }\n",
              "\n",
              "    .dataframe thead th {\n",
              "        text-align: right;\n",
              "    }\n",
              "</style>\n",
              "<table border=\"1\" class=\"dataframe\">\n",
              "  <thead>\n",
              "    <tr style=\"text-align: right;\">\n",
              "      <th></th>\n",
              "      <th>id</th>\n",
              "      <th>date</th>\n",
              "      <th>price</th>\n",
              "      <th>bedrooms</th>\n",
              "      <th>bathrooms</th>\n",
              "      <th>sqft_living</th>\n",
              "      <th>sqft_lot</th>\n",
              "      <th>floors</th>\n",
              "      <th>waterfront</th>\n",
              "      <th>view</th>\n",
              "      <th>...</th>\n",
              "      <th>grade</th>\n",
              "      <th>sqft_above</th>\n",
              "      <th>sqft_basement</th>\n",
              "      <th>yr_built</th>\n",
              "      <th>yr_renovated</th>\n",
              "      <th>zipcode</th>\n",
              "      <th>lat</th>\n",
              "      <th>long</th>\n",
              "      <th>sqft_living15</th>\n",
              "      <th>sqft_lot15</th>\n",
              "    </tr>\n",
              "  </thead>\n",
              "  <tbody>\n",
              "    <tr>\n",
              "      <th>0</th>\n",
              "      <td>7129300520</td>\n",
              "      <td>20141013</td>\n",
              "      <td>221900.0</td>\n",
              "      <td>3</td>\n",
              "      <td>1.00</td>\n",
              "      <td>1180</td>\n",
              "      <td>5650</td>\n",
              "      <td>1.0</td>\n",
              "      <td>0</td>\n",
              "      <td>0</td>\n",
              "      <td>...</td>\n",
              "      <td>7</td>\n",
              "      <td>1180</td>\n",
              "      <td>0</td>\n",
              "      <td>1955</td>\n",
              "      <td>0</td>\n",
              "      <td>98178</td>\n",
              "      <td>47.5112</td>\n",
              "      <td>-122.257</td>\n",
              "      <td>1340</td>\n",
              "      <td>5650</td>\n",
              "    </tr>\n",
              "    <tr>\n",
              "      <th>1</th>\n",
              "      <td>6414100192</td>\n",
              "      <td>20141209</td>\n",
              "      <td>538000.0</td>\n",
              "      <td>3</td>\n",
              "      <td>2.25</td>\n",
              "      <td>2570</td>\n",
              "      <td>7242</td>\n",
              "      <td>2.0</td>\n",
              "      <td>0</td>\n",
              "      <td>0</td>\n",
              "      <td>...</td>\n",
              "      <td>7</td>\n",
              "      <td>2170</td>\n",
              "      <td>400</td>\n",
              "      <td>1951</td>\n",
              "      <td>1991</td>\n",
              "      <td>98125</td>\n",
              "      <td>47.7210</td>\n",
              "      <td>-122.319</td>\n",
              "      <td>1690</td>\n",
              "      <td>7639</td>\n",
              "    </tr>\n",
              "    <tr>\n",
              "      <th>2</th>\n",
              "      <td>5631500400</td>\n",
              "      <td>20150225</td>\n",
              "      <td>180000.0</td>\n",
              "      <td>2</td>\n",
              "      <td>1.00</td>\n",
              "      <td>770</td>\n",
              "      <td>10000</td>\n",
              "      <td>1.0</td>\n",
              "      <td>0</td>\n",
              "      <td>0</td>\n",
              "      <td>...</td>\n",
              "      <td>6</td>\n",
              "      <td>770</td>\n",
              "      <td>0</td>\n",
              "      <td>1933</td>\n",
              "      <td>0</td>\n",
              "      <td>98028</td>\n",
              "      <td>47.7379</td>\n",
              "      <td>-122.233</td>\n",
              "      <td>2720</td>\n",
              "      <td>8062</td>\n",
              "    </tr>\n",
              "    <tr>\n",
              "      <th>3</th>\n",
              "      <td>2487200875</td>\n",
              "      <td>20141209</td>\n",
              "      <td>604000.0</td>\n",
              "      <td>4</td>\n",
              "      <td>3.00</td>\n",
              "      <td>1960</td>\n",
              "      <td>5000</td>\n",
              "      <td>1.0</td>\n",
              "      <td>0</td>\n",
              "      <td>0</td>\n",
              "      <td>...</td>\n",
              "      <td>7</td>\n",
              "      <td>1050</td>\n",
              "      <td>910</td>\n",
              "      <td>1965</td>\n",
              "      <td>0</td>\n",
              "      <td>98136</td>\n",
              "      <td>47.5208</td>\n",
              "      <td>-122.393</td>\n",
              "      <td>1360</td>\n",
              "      <td>5000</td>\n",
              "    </tr>\n",
              "    <tr>\n",
              "      <th>4</th>\n",
              "      <td>1954400510</td>\n",
              "      <td>20150218</td>\n",
              "      <td>510000.0</td>\n",
              "      <td>3</td>\n",
              "      <td>2.00</td>\n",
              "      <td>1680</td>\n",
              "      <td>8080</td>\n",
              "      <td>1.0</td>\n",
              "      <td>0</td>\n",
              "      <td>0</td>\n",
              "      <td>...</td>\n",
              "      <td>8</td>\n",
              "      <td>1680</td>\n",
              "      <td>0</td>\n",
              "      <td>1987</td>\n",
              "      <td>0</td>\n",
              "      <td>98074</td>\n",
              "      <td>47.6168</td>\n",
              "      <td>-122.045</td>\n",
              "      <td>1800</td>\n",
              "      <td>7503</td>\n",
              "    </tr>\n",
              "  </tbody>\n",
              "</table>\n",
              "<p>5 rows × 21 columns</p>\n",
              "</div>"
            ],
            "text/plain": [
              "           id      date     price  bedrooms  bathrooms  sqft_living  sqft_lot  \\\n",
              "0  7129300520  20141013  221900.0         3       1.00         1180      5650   \n",
              "1  6414100192  20141209  538000.0         3       2.25         2570      7242   \n",
              "2  5631500400  20150225  180000.0         2       1.00          770     10000   \n",
              "3  2487200875  20141209  604000.0         4       3.00         1960      5000   \n",
              "4  1954400510  20150218  510000.0         3       2.00         1680      8080   \n",
              "\n",
              "   floors  waterfront  view  ...  grade  sqft_above  sqft_basement  yr_built  \\\n",
              "0     1.0           0     0  ...      7        1180              0      1955   \n",
              "1     2.0           0     0  ...      7        2170            400      1951   \n",
              "2     1.0           0     0  ...      6         770              0      1933   \n",
              "3     1.0           0     0  ...      7        1050            910      1965   \n",
              "4     1.0           0     0  ...      8        1680              0      1987   \n",
              "\n",
              "   yr_renovated  zipcode      lat     long  sqft_living15  sqft_lot15  \n",
              "0             0    98178  47.5112 -122.257           1340        5650  \n",
              "1          1991    98125  47.7210 -122.319           1690        7639  \n",
              "2             0    98028  47.7379 -122.233           2720        8062  \n",
              "3             0    98136  47.5208 -122.393           1360        5000  \n",
              "4             0    98074  47.6168 -122.045           1800        7503  \n",
              "\n",
              "[5 rows x 21 columns]"
            ]
          },
          "execution_count": 4,
          "metadata": {},
          "output_type": "execute_result"
        }
      ],
      "source": [
        "# Remove T000000 part from data column. Hint: search about .str.replace() method. :)  \n",
        "data_df['date'] = data_df['date'].str.replace(\"T000000\", \"\") \n",
        "\n",
        "\n",
        "# Create a numpy array which does not have \"id\" field\n",
        "data_array = data_df.to_numpy()[:,1:].astype(np.float)\n",
        "assert (data_array.shape == (21613,20))\n",
        "\n",
        "data_df.head()"
      ]
    },
    {
      "cell_type": "markdown",
      "metadata": {
        "id": "xsBZxZ4x-oBR"
      },
      "source": [
        "Now the next task is **normalization**.\n",
        "\n",
        "We will scale each column of dataset by x -> (x-u)/s\n",
        "\n",
        "where u is mean(x), and s is standard deviation of u"
      ]
    },
    {
      "cell_type": "code",
      "execution_count": 5,
      "metadata": {
        "id": "u7GZV-0T_zCy"
      },
      "outputs": [
        {
          "name": "stdout",
          "output_type": "stream",
          "text": [
            "(21613, 20)\n"
          ]
        }
      ],
      "source": [
        "# this should be an array, each entry should be mean of a column\n",
        "mean = np.mean(data_array, axis = 0)\n",
        "\n",
        "# this should be an array, each entry should be standard deviation of a column\n",
        "sd = np.std(data_array, axis = 0)\n",
        "\n",
        "data_array_norm = (data_array - mean)/sd\n",
        "\n",
        "print(data_array_norm.shape)"
      ]
    },
    {
      "cell_type": "markdown",
      "metadata": {
        "id": "VCQTrNIgAlPv"
      },
      "source": [
        "The last step is to make train and test dataset and to create seperate vector for price"
      ]
    },
    {
      "cell_type": "code",
      "execution_count": 6,
      "metadata": {
        "id": "dJyX5QOFBRg5"
      },
      "outputs": [
        {
          "name": "stdout",
          "output_type": "stream",
          "text": [
            "(18371, 19) (3242, 19) (18371,) (3242,)\n"
          ]
        }
      ],
      "source": [
        "# extract the price column from data\n",
        "labels = data_array[:,2] \n",
        "\n",
        "# delete the price column from data_array_norm. Hint: use np.delete()\n",
        "x_array_norm = np.delete(data_array_norm, 2, 1)\n",
        "\n",
        "# splitting data into test and train set.\n",
        "x_train, x_test, y_train, y_test = train_test_split(x_array_norm,labels,test_size=0.15,random_state=42,shuffle=True)\n",
        "\n",
        "print(x_train.shape,x_test.shape,y_train.shape,y_test.shape)"
      ]
    },
    {
      "cell_type": "markdown",
      "metadata": {
        "id": "iAdW-22ZDcdU"
      },
      "source": [
        "### **Loss and gradient descent**\n",
        "We will use mean squared error(MSE) as loss\n",
        "\n",
        "Use the gradient descent algorithm which you learned from tutorials\n",
        "\n",
        "Your task is to complete the following functions"
      ]
    },
    {
      "cell_type": "code",
      "execution_count": 7,
      "metadata": {
        "id": "ufoIQOpeEFQx"
      },
      "outputs": [],
      "source": [
        "def loss(y_pred,y_true):\n",
        "  \"\"\"\n",
        "  input:\n",
        "  y_pred = [array] predicted value of y\n",
        "  y_true = [array] ground truth\n",
        "  \n",
        "  output:\n",
        "  mse: [scalar] the MES loss\n",
        "  \"\"\"\n",
        "  mse = np.square(y_true - y_pred).mean(axis = 0)                # fill code here\n",
        "\n",
        "  return mse"
      ]
    },
    {
      "cell_type": "code",
      "execution_count": 8,
      "metadata": {
        "id": "a6LogNz5E28X"
      },
      "outputs": [],
      "source": [
        "def y(x,a,b):\n",
        "  \"\"\"\n",
        "  This function should return predicted value of y = ax+b\n",
        "  input:\n",
        "  x: [array] the feature vector of shape (m,n)\n",
        "  a: [array] weights of shape (n,)\n",
        "  b: [scalar] bias\n",
        "  \n",
        "  output:\n",
        "  y_pred: [array] predicted value of y of shape (m,)\n",
        "  \"\"\"\n",
        "\n",
        "  m,n = x.shape\n",
        "  y_pred = np.matmul(x, a) + b * np.ones((m,))                   # fill code here\n",
        "\n",
        "  assert(y_pred.shape == (m,))\n",
        "  return y_pred"
      ]
    },
    {
      "cell_type": "code",
      "execution_count": 9,
      "metadata": {
        "id": "lYnPROu8Gxwi"
      },
      "outputs": [],
      "source": [
        "def gradient(x,a,b,y_true):\n",
        "  \"\"\"\n",
        "  This function shoud return gradient of loss\n",
        "  input:\n",
        "  x: [array] the feature vector of shape (m,n)\n",
        "  a: [array] weights of shape (n,)\n",
        "  b: [scalar] bias\n",
        "  y_true: [array] ground truth of shape (m,)\n",
        "\n",
        "  output:\n",
        "  grad: [tuple] a tuple (derivative with respect to a[array of shape(n,)], derivative with respect to b[scalar])\n",
        "  \"\"\"\n",
        "  m,n = x.shape\n",
        "  yp = y(x,a,b)\n",
        "\n",
        "  # write code to calculate derivative of loss with respect to a\n",
        "  da = -2 * (x * (y_true - yp)[:,np.newaxis]).mean(axis = 0)\n",
        "  # write code to calculate derivative of loss with respect to b\n",
        "  db = -2 * (y_true - yp).mean(axis = 0)\n",
        "\n",
        "  assert(da.shape ==(n,))\n",
        "  return (da,db)"
      ]
    },
    {
      "cell_type": "code",
      "execution_count": 10,
      "metadata": {
        "id": "km_z3ojKKQdj"
      },
      "outputs": [],
      "source": [
        "def gradient_descent(x,y_true,learning_rate=0.01,epochs = 10):\n",
        "  \"\"\"\n",
        "  This function perfroms gradient descent and minimizes loss\n",
        "  input:\n",
        "  x: [array] the feature vector of shape (m,n)\n",
        "  y_true: [array] ground truth of shape (m,)\n",
        "  \n",
        "  output:\n",
        "  loss: [array] of size (epochs,)\n",
        "  weights: [tuple] (a,b)\n",
        "  \"\"\"\n",
        "  m,n = x.shape\n",
        "  loss_mse = []                                 # initialize empty list to store loss\n",
        "  a = np.ones((n,))                             # initialize a- weights and b- bias\n",
        "  b = np.random.randint(1)\n",
        "\n",
        "  for i in range(epochs):\n",
        "    # calculate derivative using gradient() function\n",
        "    # apply gradient descent now to update a and b\n",
        "    \n",
        "    da, db = gradient(x, a, b, y_true)\n",
        "    a = a - learning_rate * da\n",
        "    b = b - learning_rate * db\n",
        "    l_mse = np.mean(y_true - y(x, a, b))        # calculate loss at this point\n",
        "    loss_mse.append(l_mse)\n",
        "\n",
        "    print(\"Epoch \",i+1,\" Completed!\",\"loss = \",l_mse)\n",
        "  \n",
        "  print(\"Training completed!!\")\n",
        "\n",
        "  assert(a.shape==(n,))\n",
        "\n",
        "  return (loss_mse,a,b)"
      ]
    },
    {
      "cell_type": "markdown",
      "metadata": {
        "id": "VsR5XLl_WVu4"
      },
      "source": [
        "### **Training** "
      ]
    },
    {
      "cell_type": "code",
      "execution_count": 11,
      "metadata": {
        "id": "5A9mqkqLWU27"
      },
      "outputs": [
        {
          "name": "stdout",
          "output_type": "stream",
          "text": [
            "Epoch  1  Completed! loss =  3.2562012930337016\n",
            "Epoch  2  Completed! loss =  3.123157772327235\n",
            "Epoch  3  Completed! loss =  2.9959283549096813\n",
            "Epoch  4  Completed! loss =  2.8741839625245187\n",
            "Epoch  5  Completed! loss =  2.7576285961458167\n",
            "Epoch  6  Completed! loss =  2.6459938064267856\n",
            "Epoch  7  Completed! loss =  2.539034282712086\n",
            "Epoch  8  Completed! loss =  2.4365243236054916\n",
            "Epoch  9  Completed! loss =  2.338255002833004\n",
            "Epoch  10  Completed! loss =  2.2440318839954316\n",
            "Epoch  11  Completed! loss =  2.153673169104291\n",
            "Epoch  12  Completed! loss =  2.0670081903782815\n",
            "Epoch  13  Completed! loss =  1.9838761740874313\n",
            "Epoch  14  Completed! loss =  1.9041252204007881\n",
            "Epoch  15  Completed! loss =  1.8276114551108011\n",
            "Epoch  16  Completed! loss =  1.7541983184713603\n",
            "Epoch  17  Completed! loss =  1.683755963745176\n",
            "Epoch  18  Completed! loss =  1.6161607438401229\n",
            "Epoch  19  Completed! loss =  1.5512947689613943\n",
            "Epoch  20  Completed! loss =  1.489045521782116\n",
            "Epoch  21  Completed! loss =  1.4293055194478452\n",
            "Epoch  22  Completed! loss =  1.371972013943758\n",
            "Epoch  23  Completed! loss =  1.3169467240957249\n",
            "Epoch  24  Completed! loss =  1.2641355938489114\n",
            "Epoch  25  Completed! loss =  1.2134485725490542\n",
            "Epoch  26  Completed! loss =  1.1647994138046123\n",
            "Epoch  27  Completed! loss =  1.1181054901812362\n",
            "Epoch  28  Completed! loss =  1.0732876215119822\n",
            "Epoch  29  Completed! loss =  1.0302699150274879\n",
            "Epoch  30  Completed! loss =  0.9889796158436561\n",
            "Epoch  31  Completed! loss =  0.949346966608849\n",
            "Epoch  32  Completed! loss =  0.9113050753228283\n",
            "Epoch  33  Completed! loss =  0.8747897905071788\n",
            "Epoch  34  Completed! loss =  0.8397395830407299\n",
            "Epoch  35  Completed! loss =  0.8060954340806958\n",
            "Epoch  36  Completed! loss =  0.7738007285764399\n",
            "Epoch  37  Completed! loss =  0.7428011539523457\n",
            "Epoch  38  Completed! loss =  0.7130446035926991\n",
            "Epoch  39  Completed! loss =  0.68448108480748\n",
            "Epoch  40  Completed! loss =  0.6570626309956713\n",
            "Epoch  41  Completed! loss =  0.6307432177538043\n",
            "Epoch  42  Completed! loss =  0.6054786827033243\n",
            "Epoch  43  Completed! loss =  0.5812266488319905\n",
            "Epoch  44  Completed! loss =  0.5579464511628085\n",
            "Epoch  45  Completed! loss =  0.5355990665795346\n",
            "Epoch  46  Completed! loss =  0.5141470466511372\n",
            "Epoch  47  Completed! loss =  0.4935544533091734\n",
            "Epoch  48  Completed! loss =  0.4737867972421243\n",
            "Epoch  49  Completed! loss =  0.45481097887965594\n",
            "Epoch  50  Completed! loss =  0.43659523184766397\n",
            "Epoch  51  Completed! loss =  0.41910906878206566\n",
            "Epoch  52  Completed! loss =  0.40232322939568266\n",
            "Epoch  53  Completed! loss =  0.3862096306983839\n",
            "Epoch  54  Completed! loss =  0.37074131927595816\n",
            "Epoch  55  Completed! loss =  0.3558924255380791\n",
            "Epoch  56  Completed! loss =  0.3416381198502377\n",
            "Epoch  57  Completed! loss =  0.3279545704687096\n",
            "Epoch  58  Completed! loss =  0.3148189032015312\n",
            "Epoch  59  Completed! loss =  0.3022091627221083\n",
            "Epoch  60  Completed! loss =  0.2901042754655114\n",
            "Epoch  61  Completed! loss =  0.27848401404073714\n",
            "Epoch  62  Completed! loss =  0.26732896309524384\n",
            "Epoch  63  Completed! loss =  0.25662048657095177\n",
            "Epoch  64  Completed! loss =  0.24634069629360275\n",
            "Epoch  65  Completed! loss =  0.23647242183994974\n",
            "Epoch  66  Completed! loss =  0.22699918162969376\n",
            "Epoch  67  Completed! loss =  0.21790515519139134\n",
            "Epoch  68  Completed! loss =  0.20917515655377078\n",
            "Epoch  69  Completed! loss =  0.20079460871598442\n",
            "Epoch  70  Completed! loss =  0.19274951915232857\n",
            "Epoch  71  Completed! loss =  0.18502645630885414\n",
            "Epoch  72  Completed! loss =  0.17761252705111757\n",
            "Epoch  73  Completed! loss =  0.17049535502404325\n",
            "Epoch  74  Completed! loss =  0.16366305988651986\n",
            "Epoch  75  Completed! loss =  0.15710423738493529\n",
            "Epoch  76  Completed! loss =  0.1508079402313532\n",
            "Epoch  77  Completed! loss =  0.1447636597534767\n",
            "Epoch  78  Completed! loss =  0.13896130828492023\n",
            "Epoch  79  Completed! loss =  0.13339120226561715\n",
            "Epoch  80  Completed! loss =  0.12804404602345662\n",
            "Epoch  81  Completed! loss =  0.12291091620943766\n",
            "Epoch  82  Completed! loss =  0.11798324685977969\n",
            "Epoch  83  Completed! loss =  0.11325281505953069\n",
            "Epoch  84  Completed! loss =  0.1087117271832603\n",
            "Epoch  85  Completed! loss =  0.10435240568944054\n",
            "Epoch  86  Completed! loss =  0.10016757644607412\n",
            "Epoch  87  Completed! loss =  0.09615025656605508\n",
            "Epoch  88  Completed! loss =  0.09229374273163209\n",
            "Epoch  89  Completed! loss =  0.0885915999881899\n",
            "Epoch  90  Completed! loss =  0.08503765098837532\n",
            "Epoch  91  Completed! loss =  0.0816259656683686\n",
            "Epoch  92  Completed! loss =  0.07835085133884986\n",
            "Epoch  93  Completed! loss =  0.07520684317391632\n",
            "Epoch  94  Completed! loss =  0.0721886950818966\n",
            "Epoch  95  Completed! loss =  0.06929137094265485\n",
            "Epoch  96  Completed! loss =  0.06651003619661239\n",
            "Epoch  97  Completed! loss =  0.0638400497713096\n",
            "Epoch  98  Completed! loss =  0.06127695633190892\n",
            "Epoch  99  Completed! loss =  0.05881647884259721\n",
            "Epoch  100  Completed! loss =  0.05645451142636477\n",
            "Training completed!!\n"
          ]
        }
      ],
      "source": [
        "epochs = 100              # tweak this!!!\n",
        "learn_rate = 0.02         # choose learning rate wisely otherwise loss may diverge!!\n",
        "\n",
        "train_loss,a,b = gradient_descent(x_train,y_train,learn_rate,epochs)"
      ]
    },
    {
      "cell_type": "markdown",
      "metadata": {
        "id": "TDH-7NHQT50f"
      },
      "source": [
        "### **Evaluation and Visualization**\n",
        "Lets plot how loss varies with epochs\n"
      ]
    },
    {
      "cell_type": "code",
      "execution_count": 12,
      "metadata": {
        "id": "d7JRB_nJUEkV"
      },
      "outputs": [
        {
          "name": "stdout",
          "output_type": "stream",
          "text": [
            "Loss on test data =  0.5932401554677443\n"
          ]
        },
        {
          "data": {
            "image/png": "[encoded data removed]",
            "text/plain": [
              "<Figure size 432x288 with 1 Axes>"
            ]
          },
          "metadata": {
            "needs_background": "light"
          },
          "output_type": "display_data"
        }
      ],
      "source": [
        "test_loss = loss(y(x_train,a,b), y_train)\n",
        "\n",
        "print(\"Loss on test data = \",test_loss)\n",
        "\n",
        "# Visualization of loss\n",
        "plt.plot(train_loss)                   # plot loss versus epochs\n",
        "plt.xlim(-1, 101)\n",
        "plt.title(\"Training Loss\")\n",
        "plt.xlabel(\"Epochs\")\n",
        "plt.ylabel(\"Loss\")\n",
        "plt.show()"
      ]
    },
    {
      "cell_type": "markdown",
      "metadata": {
        "id": "iQ5wPjPb57pb"
      },
      "source": [
        "## **Deep Learning**\n",
        "In this section We will build a simple multilayer perceptron network(**MLP**) in TensorFlow"
      ]
    },
    {
      "cell_type": "code",
      "execution_count": 13,
      "metadata": {
        "id": "EGoZEKIbdXZD"
      },
      "outputs": [],
      "source": [
        "# Lets import the required libraries\n",
        "import numpy as np\n",
        "from tensorflow import keras\n",
        "from tensorflow.keras import layers\n",
        "import matplotlib.pyplot as plt"
      ]
    },
    {
      "cell_type": "markdown",
      "metadata": {
        "id": "ThuZ51gEdXZF"
      },
      "source": [
        "### **Load Dataset**\n",
        "We will be using MNIST dataset of handwritten digits\n",
        "\n",
        "Just run the cell below to load dataset"
      ]
    },
    {
      "cell_type": "code",
      "execution_count": 14,
      "metadata": {
        "id": "Xj3J8Dp-dXZG"
      },
      "outputs": [
        {
          "name": "stdout",
          "output_type": "stream",
          "text": [
            "No. of training examples =  60000\n",
            "Size of each image in dataset =  (28, 28)\n",
            "No. of test examples =  10000\n"
          ]
        }
      ],
      "source": [
        "mnist = keras.datasets.mnist\n",
        "(x_train, y_train), (x_test, y_test) = mnist.load_data()\n",
        "print(\"No. of training examples = \",x_train.shape[0])\n",
        "print(\"Size of each image in dataset = \",x_train.shape[1:])\n",
        "print(\"No. of test examples = \",x_test.shape[0])"
      ]
    },
    {
      "cell_type": "code",
      "execution_count": 15,
      "metadata": {
        "id": "XX9xW4ardXZG"
      },
      "outputs": [
        {
          "name": "stdout",
          "output_type": "stream",
          "text": [
            "label: 7       9       2       5       6       "
          ]
        },
        {
          "data": {
            "image/png": "[encoded data removed]",
            "text/plain": [
              "<Figure size 432x288 with 5 Axes>"
            ]
          },
          "metadata": {
            "needs_background": "light"
          },
          "output_type": "display_data"
        }
      ],
      "source": [
        "# Run this cell to visualize some of the images from dataset\n",
        "\n",
        "n = 5    # = no. of images to visualize\n",
        "\n",
        "index = np.random.choice(x_train.shape[0],5)  # choose random index\n",
        "print(\"label: \",end=\"\")\n",
        "\n",
        "for i,ind in enumerate(index):\n",
        "    plt.subplot(1,n,i+1)\n",
        "    plt.imshow(x_train[ind],cmap=\"gray\")\n",
        "    plt.axis(\"off\")\n",
        "    print(y_train[ind],end=\"       \")\n",
        "\n",
        "plt.show()"
      ]
    },
    {
      "cell_type": "markdown",
      "metadata": {
        "id": "FQcA9i9YdXZH"
      },
      "source": [
        "#### Preprocess dataset\n",
        "Since we are building a MLP model the input to the model should be a vector rather than a 28 by 28 matrix.\n",
        "\n",
        "So your **First Task** is to flatten the images\n",
        "\n",
        "(Hint: use *reshape()* method of arrays...)\n",
        "\n",
        "Next, create validation dataset out of training dataset.\n",
        "\n",
        "You can use 50K images for training and 10K for validation"
      ]
    },
    {
      "cell_type": "code",
      "execution_count": 16,
      "metadata": {
        "id": "RXnkfE6gdXZI"
      },
      "outputs": [],
      "source": [
        "# Flatten the images into 1-d vectors\n",
        "\n",
        "x_train_flatten = x_train.reshape(x_train.shape[0], 28*28)\n",
        "x_train_flatten = x_train_flatten.astype('float32') / 255                                  # flatten the images of training set \n",
        "x_test_flatten = x_test.reshape(x_test.shape[0], 28*28)\n",
        "x_test_flatten = x_test_flatten.astype('float32') /255                                     # flatten th eimages of test set\n",
        "\n",
        "\n",
        "# Divide the training data into training and validation data....\n",
        "\n",
        "n_validation = 10000                                        # choose number of images to be used for validation\n",
        "\n",
        "x_validation = x_train_flatten[-10000:]\n",
        "y_validation = y_train[-10000:]\n",
        "\n",
        "x_train_flatten = x_train_flatten[:40000]\n",
        "y_train = y_train[:40000]\n",
        "\n",
        "y_train = keras.utils.to_categorical(y_train, 10)\n",
        "y_test_catagorical = keras.utils.to_categorical(y_test, 10)\n",
        "y_validation = keras.utils.to_categorical(y_validation, 10)\n"
      ]
    },
    {
      "cell_type": "markdown",
      "metadata": {
        "id": "fMGl2aq3dXZJ"
      },
      "source": [
        "### **Build a model**\n",
        "You can choose whatever architechure you want, but ensure that it is **not too deep** as that will take too much time to train and **not too shallow** as that will give very low accuracy."
      ]
    },
    {
      "cell_type": "code",
      "execution_count": 17,
      "metadata": {
        "id": "A7yr3nwTdXZK"
      },
      "outputs": [
        {
          "data": {
            "text/plain": [
              "<bound method Model.summary of <tensorflow.python.keras.engine.sequential.Sequential object at 0x0000018EC2319D48>>"
            ]
          },
          "execution_count": 17,
          "metadata": {},
          "output_type": "execute_result"
        }
      ],
      "source": [
        "model = keras.models.Sequential([\n",
        "    #keras.Input(),\n",
        "    layers.Dense(64, activation=\"relu\", input_shape = (784,)),\n",
        "    layers.Dropout(0.5),\n",
        "    layers.Dense(32, activation=\"relu\"),\n",
        "    layers.Dropout(0.25),\n",
        "    layers.Dense(10, activation=\"softmax\"),\n",
        "])\n",
        "\n",
        "# Make a graphical representation of the model...\n",
        "keras.utils.plot_model(model,show_shapes=True)\n",
        "model.summary"
      ]
    },
    {
      "cell_type": "markdown",
      "metadata": {
        "id": "7oDNvKB6dXZL"
      },
      "source": [
        "#### Compile and Train\n",
        "Choose an optimizer- method that minimizes loss function\n",
        "\n",
        "**adam** optimizer is one of the popular choices. You should read about these online"
      ]
    },
    {
      "cell_type": "code",
      "execution_count": 18,
      "metadata": {
        "id": "7DM9i_F5dXZL"
      },
      "outputs": [
        {
          "name": "stdout",
          "output_type": "stream",
          "text": [
            "Epoch 1/50\n",
            "79/79 [==============================] - 1s 9ms/step - loss: 1.3387 - accuracy: 0.5588 - val_loss: 0.5318 - val_accuracy: 0.8760\n",
            "Epoch 2/50\n",
            "79/79 [==============================] - 0s 5ms/step - loss: 0.7587 - accuracy: 0.7630 - val_loss: 0.3402 - val_accuracy: 0.9076\n",
            "Epoch 3/50\n",
            "79/79 [==============================] - 0s 5ms/step - loss: 0.5854 - accuracy: 0.8221 - val_loss: 0.2764 - val_accuracy: 0.9233\n",
            "Epoch 4/50\n",
            "79/79 [==============================] - 0s 6ms/step - loss: 0.5042 - accuracy: 0.8478 - val_loss: 0.2435 - val_accuracy: 0.9292\n",
            "Epoch 5/50\n",
            "79/79 [==============================] - 0s 5ms/step - loss: 0.4517 - accuracy: 0.8665 - val_loss: 0.2256 - val_accuracy: 0.9350\n",
            "Epoch 6/50\n",
            "79/79 [==============================] - 0s 5ms/step - loss: 0.4255 - accuracy: 0.8745 - val_loss: 0.2099 - val_accuracy: 0.9382\n",
            "Epoch 7/50\n",
            "79/79 [==============================] - 0s 5ms/step - loss: 0.4031 - accuracy: 0.8824 - val_loss: 0.2061 - val_accuracy: 0.9410\n",
            "Epoch 8/50\n",
            "79/79 [==============================] - 0s 5ms/step - loss: 0.3790 - accuracy: 0.8896 - val_loss: 0.1901 - val_accuracy: 0.9451\n",
            "Epoch 9/50\n",
            "79/79 [==============================] - 0s 6ms/step - loss: 0.3650 - accuracy: 0.8925 - val_loss: 0.1828 - val_accuracy: 0.9463\n",
            "Epoch 10/50\n",
            "79/79 [==============================] - 0s 6ms/step - loss: 0.3492 - accuracy: 0.8993 - val_loss: 0.1772 - val_accuracy: 0.9502\n",
            "Epoch 11/50\n",
            "79/79 [==============================] - 0s 5ms/step - loss: 0.3434 - accuracy: 0.8992 - val_loss: 0.1745 - val_accuracy: 0.9503\n",
            "Epoch 12/50\n",
            "79/79 [==============================] - 0s 5ms/step - loss: 0.3273 - accuracy: 0.9052 - val_loss: 0.1690 - val_accuracy: 0.9521\n",
            "Epoch 13/50\n",
            "79/79 [==============================] - 0s 5ms/step - loss: 0.3252 - accuracy: 0.9044 - val_loss: 0.1611 - val_accuracy: 0.9556\n",
            "Epoch 14/50\n",
            "79/79 [==============================] - 0s 5ms/step - loss: 0.3161 - accuracy: 0.9069 - val_loss: 0.1601 - val_accuracy: 0.9557\n",
            "Epoch 15/50\n",
            "79/79 [==============================] - 0s 5ms/step - loss: 0.3039 - accuracy: 0.9115 - val_loss: 0.1591 - val_accuracy: 0.9552\n",
            "Epoch 16/50\n",
            "79/79 [==============================] - 0s 5ms/step - loss: 0.2974 - accuracy: 0.9127 - val_loss: 0.1523 - val_accuracy: 0.9576\n",
            "Epoch 17/50\n",
            "79/79 [==============================] - 0s 5ms/step - loss: 0.2955 - accuracy: 0.9136 - val_loss: 0.1578 - val_accuracy: 0.9562\n",
            "Epoch 18/50\n",
            "79/79 [==============================] - 0s 5ms/step - loss: 0.2873 - accuracy: 0.9156 - val_loss: 0.1499 - val_accuracy: 0.9587\n",
            "Epoch 19/50\n",
            "79/79 [==============================] - 0s 5ms/step - loss: 0.2865 - accuracy: 0.9152 - val_loss: 0.1455 - val_accuracy: 0.9593\n",
            "Epoch 20/50\n",
            "79/79 [==============================] - 0s 5ms/step - loss: 0.2816 - accuracy: 0.9171 - val_loss: 0.1454 - val_accuracy: 0.9597\n",
            "Epoch 21/50\n",
            "79/79 [==============================] - 0s 5ms/step - loss: 0.2786 - accuracy: 0.9199 - val_loss: 0.1431 - val_accuracy: 0.9623\n",
            "Epoch 22/50\n",
            "79/79 [==============================] - 0s 5ms/step - loss: 0.2725 - accuracy: 0.9216 - val_loss: 0.1411 - val_accuracy: 0.9630\n",
            "Epoch 23/50\n",
            "79/79 [==============================] - 0s 5ms/step - loss: 0.2657 - accuracy: 0.9216 - val_loss: 0.1416 - val_accuracy: 0.9612\n",
            "Epoch 24/50\n",
            "79/79 [==============================] - 0s 5ms/step - loss: 0.2584 - accuracy: 0.9248 - val_loss: 0.1395 - val_accuracy: 0.9634\n",
            "Epoch 25/50\n",
            "79/79 [==============================] - 0s 5ms/step - loss: 0.2626 - accuracy: 0.9233 - val_loss: 0.1398 - val_accuracy: 0.9632\n",
            "Epoch 26/50\n",
            "79/79 [==============================] - 0s 5ms/step - loss: 0.2538 - accuracy: 0.9255 - val_loss: 0.1332 - val_accuracy: 0.9643\n",
            "Epoch 27/50\n",
            "79/79 [==============================] - 0s 5ms/step - loss: 0.2569 - accuracy: 0.9247 - val_loss: 0.1377 - val_accuracy: 0.9633\n",
            "Epoch 28/50\n",
            "79/79 [==============================] - 0s 5ms/step - loss: 0.2565 - accuracy: 0.9242 - val_loss: 0.1376 - val_accuracy: 0.9619\n",
            "Epoch 29/50\n",
            "79/79 [==============================] - 0s 5ms/step - loss: 0.2479 - accuracy: 0.9289 - val_loss: 0.1306 - val_accuracy: 0.9658\n",
            "Epoch 30/50\n",
            "79/79 [==============================] - 0s 5ms/step - loss: 0.2495 - accuracy: 0.9270 - val_loss: 0.1339 - val_accuracy: 0.9635\n",
            "Epoch 31/50\n",
            "79/79 [==============================] - 0s 5ms/step - loss: 0.2424 - accuracy: 0.9282 - val_loss: 0.1318 - val_accuracy: 0.9646\n",
            "Epoch 32/50\n",
            "79/79 [==============================] - 0s 5ms/step - loss: 0.2443 - accuracy: 0.9290 - val_loss: 0.1329 - val_accuracy: 0.9632\n",
            "Epoch 33/50\n",
            "79/79 [==============================] - 0s 5ms/step - loss: 0.2410 - accuracy: 0.9294 - val_loss: 0.1309 - val_accuracy: 0.9656\n",
            "Epoch 34/50\n",
            "79/79 [==============================] - 0s 5ms/step - loss: 0.2380 - accuracy: 0.9309 - val_loss: 0.1295 - val_accuracy: 0.9646\n",
            "Epoch 35/50\n",
            "79/79 [==============================] - 0s 5ms/step - loss: 0.2342 - accuracy: 0.9296 - val_loss: 0.1290 - val_accuracy: 0.9669\n",
            "Epoch 36/50\n",
            "79/79 [==============================] - 0s 5ms/step - loss: 0.2292 - accuracy: 0.9306 - val_loss: 0.1301 - val_accuracy: 0.9658\n",
            "Epoch 37/50\n",
            "79/79 [==============================] - 0s 5ms/step - loss: 0.2349 - accuracy: 0.9308 - val_loss: 0.1284 - val_accuracy: 0.9648\n",
            "Epoch 38/50\n",
            "79/79 [==============================] - 0s 5ms/step - loss: 0.2335 - accuracy: 0.9296 - val_loss: 0.1330 - val_accuracy: 0.9645\n",
            "Epoch 39/50\n",
            "79/79 [==============================] - 0s 5ms/step - loss: 0.2317 - accuracy: 0.9310 - val_loss: 0.1303 - val_accuracy: 0.9663\n",
            "Epoch 40/50\n",
            "79/79 [==============================] - 0s 5ms/step - loss: 0.2280 - accuracy: 0.9312 - val_loss: 0.1296 - val_accuracy: 0.9662\n",
            "Epoch 41/50\n",
            "79/79 [==============================] - 0s 5ms/step - loss: 0.2261 - accuracy: 0.9337 - val_loss: 0.1309 - val_accuracy: 0.9652\n",
            "Epoch 42/50\n",
            "79/79 [==============================] - 0s 5ms/step - loss: 0.2228 - accuracy: 0.9343 - val_loss: 0.1331 - val_accuracy: 0.9644\n",
            "Epoch 43/50\n",
            "79/79 [==============================] - 0s 5ms/step - loss: 0.2242 - accuracy: 0.9336 - val_loss: 0.1280 - val_accuracy: 0.9659\n",
            "Epoch 44/50\n",
            "79/79 [==============================] - 0s 5ms/step - loss: 0.2238 - accuracy: 0.9329 - val_loss: 0.1299 - val_accuracy: 0.9653\n",
            "Epoch 45/50\n",
            "79/79 [==============================] - 0s 5ms/step - loss: 0.2211 - accuracy: 0.9338 - val_loss: 0.1261 - val_accuracy: 0.9664\n",
            "Epoch 46/50\n",
            "79/79 [==============================] - 0s 5ms/step - loss: 0.2161 - accuracy: 0.9369 - val_loss: 0.1297 - val_accuracy: 0.9660\n",
            "Epoch 47/50\n",
            "79/79 [==============================] - 0s 5ms/step - loss: 0.2178 - accuracy: 0.9355 - val_loss: 0.1302 - val_accuracy: 0.9648\n",
            "Epoch 48/50\n",
            "79/79 [==============================] - 0s 5ms/step - loss: 0.2127 - accuracy: 0.9365 - val_loss: 0.1284 - val_accuracy: 0.9664\n",
            "Epoch 49/50\n",
            "79/79 [==============================] - 0s 5ms/step - loss: 0.2119 - accuracy: 0.9375 - val_loss: 0.1271 - val_accuracy: 0.9674\n",
            "Epoch 50/50\n",
            "79/79 [==============================] - 0s 5ms/step - loss: 0.2201 - accuracy: 0.9349 - val_loss: 0.1290 - val_accuracy: 0.9675\n"
          ]
        }
      ],
      "source": [
        "model.compile(optimizer=\"rmsprop\",loss = \"categorical_crossentropy\",metrics=[\"accuracy\"])\n",
        "\n",
        "n_epochs = 50               # set number of epochs\n",
        "batch_size = 512            # you can tweak with these parametrs\n",
        "history = model.fit(x_train_flatten, y_train, \n",
        "                    batch_size=batch_size,\n",
        "                    epochs=n_epochs,\n",
        "                    verbose=1,\n",
        "                    validation_data=(x_validation, y_validation))"
      ]
    },
    {
      "cell_type": "markdown",
      "metadata": {
        "id": "7QTWTtoVdXZM"
      },
      "source": [
        "### **Evaluate**\n",
        "Evaluate your model on test data.\n",
        "\n",
        "And Show some results"
      ]
    },
    {
      "cell_type": "code",
      "execution_count": 19,
      "metadata": {
        "id": "bhuBGWg-dXZM"
      },
      "outputs": [
        {
          "name": "stdout",
          "output_type": "stream",
          "text": [
            "313/313 [==============================] - 0s 1ms/step - loss: 0.1423 - accuracy: 0.9627\n",
            "Loss =  0.1423085331916809\n",
            "Accuracy =  96.27000093460083 %\n"
          ]
        },
        {
          "data": {
            "image/png": "[encoded data removed]",
            "text/plain": [
              "<Figure size 432x288 with 1 Axes>"
            ]
          },
          "metadata": {
            "needs_background": "light"
          },
          "output_type": "display_data"
        },
        {
          "data": {
            "image/png": "[encoded data removed]",
            "text/plain": [
              "<Figure size 432x288 with 1 Axes>"
            ]
          },
          "metadata": {
            "needs_background": "light"
          },
          "output_type": "display_data"
        }
      ],
      "source": [
        "results = model.evaluate(x_test_flatten, y_test_catagorical)\n",
        "print(\"Loss = \",results[0])\n",
        "print(\"Accuracy = \",results[1]*100,\"%\")\n",
        "\n",
        "# Plot Accuracy...\n",
        "plt.plot(history.history['accuracy'], label=\"Training accuracy\")\n",
        "plt.plot(history.history['val_accuracy'], label=\"validation Accuracy\")\n",
        "plt.title(\"Model accuracy\")\n",
        "plt.xlabel(\"Epochs\")\n",
        "plt.ylabel(\"Accuracy\")\n",
        "plt.legend()\n",
        "plt.show()\n",
        "\n",
        "# Similarly write code to plot loss...\n",
        "plt.plot(history.history['loss'], label=\"Training loss\")\n",
        "plt.plot(history.history['val_loss'], label=\"validation loss\")\n",
        "plt.title(\"Model loss\")\n",
        "plt.xlabel(\"Epochs\")\n",
        "plt.ylabel(\"loss\")\n",
        "plt.legend()\n",
        "plt.show()\n"
      ]
    },
    {
      "cell_type": "markdown",
      "metadata": {
        "id": "4Hjr0CBhdXZN"
      },
      "source": [
        "Lets show our results on images from testing dataset"
      ]
    },
    {
      "cell_type": "code",
      "execution_count": 21,
      "metadata": {
        "id": "sEs1cVAHdXZN"
      },
      "outputs": [
        {
          "name": "stdout",
          "output_type": "stream",
          "text": [
            "label: \n",
            "9    0    7    6    1    4    6    3    5    9    "
          ]
        },
        {
          "data": {
            "image/png": "[encoded data removed]",
            "text/plain": [
              "<Figure size 432x288 with 10 Axes>"
            ]
          },
          "metadata": {
            "needs_background": "light"
          },
          "output_type": "display_data"
        },
        {
          "name": "stdout",
          "output_type": "stream",
          "text": [
            "Predicted value: \n",
            "9    0    7    6    1    4    6    3    5    9    "
          ]
        }
      ],
      "source": [
        "n = 10   # = no. of images to see predictions on\n",
        "\n",
        "index = np.random.choice(x_test.shape[0],10)  # choose random index from test data\n",
        "print(\"label: \")\n",
        "\n",
        "for i,ind in enumerate(index):\n",
        "    plt.subplot(1,n,i+1)\n",
        "    plt.imshow(x_test[ind],cmap=\"gray\")             # fill code to show images from test set\n",
        "    plt.axis(\"off\")\n",
        "    print(y_test[ind],end=\"    \")\n",
        "\n",
        "plt.show()\n",
        "print(\"Predicted value: \")\n",
        "\n",
        "# Now lets print the predictions\n",
        "\n",
        "y_pred = model.predict(x_test_flatten)\n",
        "for i,ind in enumerate(index):\n",
        "    # write code to predict and print digit in image\n",
        "    # Hint: the output of the model is a 10-d vector which gives probabilties\n",
        "    # The digit in the image would be the class for which probability is highest...\n",
        "\n",
        "    digit = np.argmax(y_pred[ind])\n",
        "    print(digit,end=\"    \")"
      ]
    },
    {
      "cell_type": "markdown",
      "metadata": {
        "id": "ne8-aBvHdXZO"
      },
      "source": [
        "That's it you have completed the assignment !!\n",
        "\n",
        "We hope that you learned something from this exercise\n",
        "\n",
        "### Credits:\n",
        "\n",
        "**Leaders:**\n",
        "\n",
        "Mohit Kulkarni\n",
        "\n",
        "Shivanshu Tyagi\n",
        "\n",
        "**Scretaries:**\n",
        "\n",
        "Sahil Bansal\n",
        "\n",
        "Shashwat Gupta\n",
        "\n",
        "Rashmi Sharma"
      ]
    }
  ],
  "metadata": {
    "colab": {
      "collapsed_sections": [],
      "name": "BCS_DL_assignment",
      "provenance": []
    },
    "interpreter": {
      "hash": "31f2aee4e71d21fbe5cf8b01ff0e069b9275f58929596ceb00d14d90e3e16cd6"
    },
    "kernelspec": {
      "display_name": "Python 3.8.10 64-bit",
      "language": "python",
      "name": "python3"
    },
    "language_info": {
      "codemirror_mode": {
        "name": "ipython",
        "version": 3
      },
      "file_extension": ".py",
      "mimetype": "text/x-python",
      "name": "python",
      "nbconvert_exporter": "python",
      "pygments_lexer": "ipython3",
      "version": "3.7.11"
    },
    "orig_nbformat": 4
  },
  "nbformat": 4,
  "nbformat_minor": 0
}
